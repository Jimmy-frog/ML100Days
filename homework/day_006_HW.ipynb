{
 "cells": [
  {
   "cell_type": "code",
   "execution_count": 1,
   "metadata": {
    "id": "jbkK8wprdbdY"
   },
   "outputs": [],
   "source": [
    "import numpy as np"
   ]
  },
  {
   "cell_type": "markdown",
   "metadata": {
    "id": "YWb4mnd4fqAG"
   },
   "source": [
    "作業目標<br>\n",
    "讀取存取陣列資料<br>\n",
    "作業重點<br>\n",
    "多陣列存一起需要存成npz，讀取須注意npz中有多個陣列"
   ]
  },
  {
   "cell_type": "markdown",
   "metadata": {
    "id": "UXV4vW6IfsW6"
   },
   "source": [
    "題目:<br>\n",
    "1. 將下兩列array存成npz檔<br>\n",
    "array1 = np.array(range(30))<br>\n",
    "array2 = np.array([2,3,5])<br>\n",
    "2. 讀取剛剛的npz檔，加入下列array一起存成新的npz檔\n"
   ]
  },
  {
   "cell_type": "code",
   "execution_count": 4,
   "metadata": {
    "id": "1mZQSUx_fry7"
   },
   "outputs": [],
   "source": [
    "#. 將下兩列array存成npz檔\n",
    "array1 = np.array(range(30))\n",
    "array2 = np.array([2,3,5])\n",
    "\n",
    "with open('combine.npz','wb') as f:\n",
    "    np.savez(f,array1=array1,array2=array2)\n",
    "    "
   ]
  },
  {
   "cell_type": "code",
   "execution_count": 9,
   "metadata": {
    "id": "Ie1TGcssiIDN"
   },
   "outputs": [],
   "source": [
    "#2. 讀取剛剛的npz檔，加入下列array一起存成新的npz檔\n",
    "\n",
    "s = np.load(r'D:\\Day100 learning\\dataset\\combine.npy')\n",
    "\n",
    "\n",
    "array3 = np.arange(0,20,5)\n",
    "\n",
    "\n",
    "np.savez(\"new_combine.npz\",s['array1'],s['array2'],array3)"
   ]
  },
  {
   "cell_type": "code",
   "execution_count": 12,
   "metadata": {},
   "outputs": [
    {
     "data": {
      "text/plain": [
       "['arr_0', 'arr_1', 'arr_2']"
      ]
     },
     "execution_count": 12,
     "metadata": {},
     "output_type": "execute_result"
    }
   ],
   "source": [
    "p = np.load(r'D:\\Day100 learning\\dataset\\new_combine.npz').files\n",
    "p"
   ]
  },
  {
   "cell_type": "code",
   "execution_count": 55,
   "metadata": {},
   "outputs": [
    {
     "name": "stdout",
     "output_type": "stream",
     "text": [
      "190\n",
      "190\n",
      "190\n"
     ]
    },
    {
     "data": {
      "text/plain": [
       "array([ 20,  23,  26,  29,  32,  35,  38,  41,  44,  47,  50,  53,  56,\n",
       "        59,  62,  65,  68,  71,  74,  77,  80,  83,  86,  89,  92,  95,\n",
       "        98, 101, 104, 107, 110, 113, 116, 119, 122, 125, 128, 131, 134,\n",
       "       137, 140, 143, 146, 149, 152, 155, 158, 161, 164, 167, 170, 173,\n",
       "       176, 179, 182, 185, 188, 191, 194, 197, 200, 203, 206, 209, 212,\n",
       "       215, 218, 221, 224, 227, 230, 233, 236, 239, 242, 245, 248, 251,\n",
       "       254, 257, 260, 263, 266, 269, 272, 275, 278, 281, 284, 287, 290,\n",
       "       293, 296, 299, 302, 305, 308, 311, 314, 317, 320, 323, 326, 329,\n",
       "       332, 335, 338, 341, 344, 347, 350, 353, 356, 359, 362, 365, 368,\n",
       "       371, 374, 377, 380, 383, 386, 389, 392, 395, 398, 401, 404, 407,\n",
       "       410, 413, 416, 419, 422, 425, 428, 431, 434, 437, 440, 443, 446,\n",
       "       449, 452, 455, 458, 461, 464, 467, 470, 473, 476, 479, 482, 485,\n",
       "       488, 491, 494, 497, 500, 503, 506, 509, 512, 515, 518, 521, 524,\n",
       "       527, 530, 533, 536, 539, 542, 545, 548, 551, 554, 557, 560, 563,\n",
       "       566, 569, 572, 575, 578, 581, 584, 587, 590, 593, 596, 599, 602,\n",
       "       605, 608, 611, 614, 617, 620, 623, 626, 629, 632, 635, 638, 641,\n",
       "       644, 647, 650, 653, 656, 659, 662, 665, 668, 671, 674, 677, 680,\n",
       "       683, 686, 689, 692, 695, 698, 701, 704, 707, 710, 713, 716, 719,\n",
       "       722, 725, 728, 731, 734, 737, 740, 743, 746, 749, 752, 755, 758,\n",
       "       761, 764, 767, 770, 773, 776, 779, 782, 785, 788, 791, 794, 797,\n",
       "       800, 803, 806, 809, 812, 815, 818, 821, 824, 827, 830, 833, 836,\n",
       "       839, 842, 845, 848, 851, 854, 857, 860, 863, 866, 869, 872, 875,\n",
       "       878, 881, 884, 887, 890, 893, 896, 899, 902, 905, 908, 911, 914,\n",
       "       917, 920, 923, 926, 929, 932, 935, 938, 941, 944, 947, 950, 953,\n",
       "       956, 959, 962, 965, 968, 971, 974, 977, 980, 983, 986, 989, 992,\n",
       "       995,  -1])"
      ]
     },
     "execution_count": 55,
     "metadata": {},
     "output_type": "execute_result"
    }
   ],
   "source": [
    "#[簡答題] 請問下列這三種方法有什麼不同？\n",
    "a= np.arange(20)\n",
    "print(a.sum())\n",
    "print(np.sum(a))\n",
    "print(sum(a)) \n",
    "\n",
    "#請對一個 5x5 的隨機矩陣作正規化的操作。\n",
    "\n",
    "a = np.random.randint(0, 100, (5, 5)) \n",
    "#請建立一個長度等於 10 的正整數向量，並且將其中的最大值改成 -1。\n",
    "b = np.arange(20,1000,3)\n",
    "\n",
    "for i in range(len(b)):\n",
    "    if b[i] == b.max():\n",
    "        b[i]=-1\n",
    "b"
   ]
  },
  {
   "cell_type": "code",
   "execution_count": null,
   "metadata": {},
   "outputs": [],
   "source": []
  }
 ],
 "metadata": {
  "colab": {
   "collapsed_sections": [],
   "name": "作業Hong題目.ipynb",
   "provenance": []
  },
  "kernelspec": {
   "display_name": "Python 3",
   "language": "python",
   "name": "python3"
  },
  "language_info": {
   "codemirror_mode": {
    "name": "ipython",
    "version": 3
   },
   "file_extension": ".py",
   "mimetype": "text/x-python",
   "name": "python",
   "nbconvert_exporter": "python",
   "pygments_lexer": "ipython3",
   "version": "3.6.4"
  }
 },
 "nbformat": 4,
 "nbformat_minor": 1
}
