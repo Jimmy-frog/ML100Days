{
 "cells": [
  {
   "cell_type": "markdown",
   "metadata": {},
   "source": [
    "## 作業:\n",
    "今天學到2種分配，包含，   \n",
    "離散均勻分配( Discrete Uniform Distribution )   \n",
    "伯努利分配( Bernoulli Distribution )   \n",
    "\n",
    "今天我們透過作業中的問題，回想今天的內容吧!  "
   ]
  },
  {
   "cell_type": "markdown",
   "metadata": {},
   "source": [
    "### 丟一個銅板，丟了100次，出現正面 50 次的機率有多大。\n",
    "(提示: 先想是哪一種分配，然後透過 python 語法進行計算)\n"
   ]
  },
  {
   "cell_type": "code",
   "execution_count": 22,
   "metadata": {},
   "outputs": [],
   "source": [
    "\n",
    "# library\n",
    "import matplotlib.pyplot as plt\n",
    "import numpy as np\n",
    "import pandas as pd\n",
    "from scipy import stats\n",
    "import math\n",
    "import statistics\n",
    " \n"
   ]
  },
  {
   "cell_type": "code",
   "execution_count": 27,
   "metadata": {},
   "outputs": [
    {
     "name": "stdout",
     "output_type": "stream",
     "text": [
      "0.07958923738717888\n"
     ]
    },
    {
     "data": {
      "image/png": "[encoded data removed]",
      "text/plain": [
       "<Figure size 432x288 with 1 Axes>"
      ]
     },
     "metadata": {},
     "output_type": "display_data"
    }
   ],
   "source": [
    "\n",
    "# 1.定義二項分佈的基本資訊\n",
    "p = 0.5 # 出現正面 機率 0.5\n",
    "n = 100  # 重複實驗100次,\n",
    "r = 50 # 計算出現50次正面\n",
    "r1 = np.arange(0,100)\n",
    "\n",
    "# 2.計算二項分佈的概率質量分佈 (probability mass function)\n",
    "# 之所以稱為質量，是因為離散的點\n",
    "probs = stats.binom.pmf(r, n, p)\n",
    "probs1 = stats.binom.pmf(r1, n, p)\n",
    "print(probs)\n",
    "plt.bar(r1, probs1)\n",
    "plt.ylabel('P(X=x)')\n",
    "plt.xlabel('x')\n",
    "plt.title('Bernoulli(p=0.4)')\n",
    "plt.show()"
   ]
  },
  {
   "cell_type": "code",
   "execution_count": null,
   "metadata": {},
   "outputs": [],
   "source": []
  }
 ],
 "metadata": {
  "colab": {
   "name": "Day33.YOLO 細節理解 - 網路輸出的後處理_HW.ipynb",
   "provenance": []
  },
  "kernelspec": {
   "display_name": "Python 3",
   "language": "python",
   "name": "python3"
  },
  "language_info": {
   "codemirror_mode": {
    "name": "ipython",
    "version": 3
   },
   "file_extension": ".py",
   "mimetype": "text/x-python",
   "name": "python",
   "nbconvert_exporter": "python",
   "pygments_lexer": "ipython3",
   "version": "3.6.4"
  }
 },
 "nbformat": 4,
 "nbformat_minor": 1
}
