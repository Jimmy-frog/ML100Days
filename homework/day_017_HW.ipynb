{
 "cells": [
  {
   "cell_type": "code",
   "execution_count": null,
   "metadata": {},
   "outputs": [],
   "source": [
    "1.在速度較慢的時候，可以先從哪邊開始檢查？\n",
    "\n",
    "可以先根據檔案型態做更換將excel 或是csv轉換成pkl檔\n",
    "pd.to_pickle(‘xxx.pkl’)\n",
    "pd.read_pickle(‘xxx.pkl’)\n",
    "\n",
    "使用內建程式碼\n",
    "agg(),transform()\n",
    "\n",
    "針對資料條件篩選時\n",
    "isin()"
   ]
  },
  {
   "cell_type": "code",
   "execution_count": null,
   "metadata": {},
   "outputs": [],
   "source": [
    "2.資料過大時應採取什麼方式讓記憶體占用量下降？\n",
    "轉換資料型態int 改成 uint \n",
    "apply(pd.to_numeric,downcast=’unsigned’)\n",
    "\n",
    "\n",
    "float64 改成 float32 \n",
    "apply(pd.to_numeric,downcast=’unsigned’)\n"
   ]
  }
 ],
 "metadata": {
  "kernelspec": {
   "display_name": "Python 3",
   "language": "python",
   "name": "python3"
  },
  "language_info": {
   "codemirror_mode": {
    "name": "ipython",
    "version": 3
   },
   "file_extension": ".py",
   "mimetype": "text/x-python",
   "name": "python",
   "nbconvert_exporter": "python",
   "pygments_lexer": "ipython3",
   "version": "3.6.4"
  }
 },
 "nbformat": 4,
 "nbformat_minor": 2
}
